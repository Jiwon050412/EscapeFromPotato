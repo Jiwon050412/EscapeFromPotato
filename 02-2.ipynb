{
 "cells": [
  {
   "cell_type": "code",
   "execution_count": null,
   "metadata": {},
   "outputs": [],
   "source": [
    "import pandas as pd\n",
    "books_df = pd.read_json('20s_best_book.json')\n",
    "books_df.head()"
   ]
  },
  {
   "cell_type": "code",
   "execution_count": null,
   "metadata": {},
   "outputs": [],
   "source": [
    "import requests\n",
    "isbn = 9791190090018\n",
    "url = 'http://www.yes24.com/Product/Search?domain=BOOK&query={}'\n",
    "r = requests.get(url.format(isbn))\n",
    "print(r.text)"
   ]
  },
  {
   "cell_type": "code",
   "execution_count": 9,
   "metadata": {},
   "outputs": [],
   "source": [
    "from bs4 import BeautifulSoup\n",
    "soup = BeautifulSoup(r.text, 'html.parser')"
   ]
  },
  {
   "cell_type": "code",
   "execution_count": null,
   "metadata": {},
   "outputs": [],
   "source": [
    "prd_link = soup.find('a', attrs={'class':'gd_name'})\n",
    "print(prd_link)"
   ]
  },
  {
   "cell_type": "code",
   "execution_count": null,
   "metadata": {},
   "outputs": [],
   "source": [
    "print(prd_link['href'])\n",
    "\n",
    "url = 'http://www.yes24.com' + prd_link['href']\n",
    "r = requests.get(url)\n",
    "print(r.text)"
   ]
  },
  {
   "cell_type": "code",
   "execution_count": null,
   "metadata": {},
   "outputs": [],
   "source": [
    "soup = BeautifulSoup(r.text, 'html.parser')\n",
    "prd_detail = soup.find('div', attrs={'id' : 'infoset_specific'})\n",
    "print(prd_detail)"
   ]
  },
  {
   "cell_type": "code",
   "execution_count": null,
   "metadata": {},
   "outputs": [],
   "source": [
    "prd_tr_list = prd_detail.find_all('tr')"
   ]
  },
  {
   "cell_type": "code",
   "execution_count": null,
   "metadata": {},
   "outputs": [
    {
     "name": "stdout",
     "output_type": "stream",
     "text": [
      "330쪽 | 496g | 130*198*30mm\n",
      "330쪽\n"
     ]
    }
   ],
   "source": [
    "for tr in prd_tr_list:\n",
    "    if tr.find('th').get_text() == '쪽수, 무게, 크기':\n",
    "        page_td = tr.find('td').get_text()\n",
    "        break\n",
    "\n",
    "print(page_td.split()[0])"
   ]
  },
  {
   "cell_type": "markdown",
   "metadata": {},
   "source": [
    "추가 과제"
   ]
  },
  {
   "cell_type": "code",
   "execution_count": null,
   "metadata": {},
   "outputs": [
    {
     "data": {
      "text/plain": [
       "'330쪽'"
      ]
     },
     "execution_count": 22,
     "metadata": {},
     "output_type": "execute_result"
    }
   ],
   "source": [
    "def get_page_cnt(isbn):\n",
    "    url = 'http://www.yes24.com/Product/Search?domain=BOOK&query={}'\n",
    "    r = requests.get(url.format(isbn))\n",
    "\n",
    "    soup = BeautifulSoup(r.text, 'html.parser')\n",
    "    prd_info = soup.find('a', attrs={'class':'gd_name'})\n",
    "    if prd_info == None:\n",
    "        return\n",
    "    \n",
    "    url = 'http://www.yes24.com' + prd_info['href']\n",
    "    r = requests.get(url)\n",
    "    soup = BeautifulSoup(r.text, 'html.parser')\n",
    "\n",
    "    prd_detail = soup.find('div', attrs={'id' : 'infoset_specific'})\n",
    "    prd_tr_list = prd_detail.find_all('tr')\n",
    "\n",
    "    for tr in prd_tr_list:\n",
    "        if tr.find('th').get_text() == '쪽수, 무게, 크기':\n",
    "            return tr.find('td').get_text().split()[0]\n",
    "    \n",
    "    return ''\n",
    "\n",
    "get_page_cnt(9791190090018)\n",
    "    "
   ]
  },
  {
   "cell_type": "code",
   "execution_count": 25,
   "metadata": {},
   "outputs": [
    {
     "name": "stdout",
     "output_type": "stream",
     "text": [
      "0    330쪽\n",
      "1    300쪽\n",
      "2    228쪽\n",
      "3    340쪽\n",
      "4    264쪽\n",
      "5    272쪽\n",
      "6    396쪽\n",
      "7    None\n",
      "8    376쪽\n",
      "9    244쪽\n",
      "Name: page_count, dtype: object\n"
     ]
    }
   ],
   "source": [
    "books = pd.read_json('20s_best_book.json')\n",
    "top10_books = books.head(10)\n",
    "\n",
    "page_count = top10_books.apply(lambda row: get_page_cnt(row['isbn13']), axis = 1)\n",
    "page_count.name = 'page_count'\n",
    "print(page_count)"
   ]
  },
  {
   "cell_type": "code",
   "execution_count": 28,
   "metadata": {},
   "outputs": [
    {
     "name": "stdout",
     "output_type": "stream",
     "text": [
      "   no  ranking                     bookname                  authors  \\\n",
      "0   1        1  우리가 빛의 속도로 갈 수 없다면 :김초엽 소설                  지은이: 김초엽   \n",
      "1   2        2         달러구트 꿈 백화점 :이미예 장편소설                 지은이: 이미예   \n",
      "2   3        3          지구에서 한아뿐 :정세랑 장편소설                  지은이: 정세랑   \n",
      "3   4        4           시선으로부터, :정세랑 장편소설                  지은이: 정세랑   \n",
      "4   5        5                  아몬드손원평 장편소설                      손원평   \n",
      "5   6        6          목소리를 드릴게요 :정세랑 소설집                  지은이: 정세랑   \n",
      "6   7        7            피프티 피플 :정세랑 장편소설                  지은이: 정세랑   \n",
      "7   8        8  나미야 잡화점의 기적 :히가시노 게이고 장편소설   지은이: 히가시노 게이고 ;옮긴이: 양윤옥   \n",
      "8   9        9           천 개의 파랑 :천선란 장편소설                  지은이: 천선란   \n",
      "9  10       10                   선량한 차별주의자                    김지혜 지음   \n",
      "\n",
      "  publisher  publication_year         isbn13 addition_symbol vol  class_no  \\\n",
      "0        허블              2019  9791190090018           03810         813.7   \n",
      "1     팩토리나인              2020  9791165341909           03810         813.7   \n",
      "2        난다              2019  9791188862290           03810         813.7   \n",
      "3      문학동네              2020  9788954672214           03810         813.7   \n",
      "4        창비              2017  9788936434267           03810         813.7   \n",
      "5        아작              2020  9791165300005           03810         813.7   \n",
      "6        창비              2016  9788936434243           03810         813.7   \n",
      "7      현대문학              2012  9788972756194           03830         833.6   \n",
      "8        허블              2020  9791190090261           03810         813.7   \n",
      "9        창비              2019  9788936477196           03300         334.0   \n",
      "\n",
      "                  class_nm  loan_count  \\\n",
      "0           문학 > 한국문학 > 소설         492   \n",
      "1           문학 > 한국문학 > 소설         408   \n",
      "2           문학 > 한국문학 > 소설         399   \n",
      "3           문학 > 한국문학 > 소설         395   \n",
      "4           문학 > 한국문학 > 소설         393   \n",
      "5           문학 > 한국문학 > 소설         335   \n",
      "6           문학 > 한국문학 > 소설         334   \n",
      "7           문학 > 일본문학 > 소설         324   \n",
      "8           문학 > 한국문학 > 소설         309   \n",
      "9  사회과학 > 사회학, 사회문제 > 사회문제         307   \n",
      "\n",
      "                                        bookImageURL  \\\n",
      "0  https://image.aladin.co.kr/product/19359/16/co...   \n",
      "1  https://image.aladin.co.kr/product/24512/70/co...   \n",
      "2  https://image.aladin.co.kr/product/19804/82/co...   \n",
      "3  https://image.aladin.co.kr/product/24131/37/co...   \n",
      "4  http://image.aladin.co.kr/product/16839/4/cove...   \n",
      "5  https://image.aladin.co.kr/product/22246/11/co...   \n",
      "6  https://bookthumb-phinf.pstatic.net/cover/113/...   \n",
      "7  http://image.aladin.co.kr/product/15848/6/cove...   \n",
      "8  https://image.aladin.co.kr/product/24895/69/co...   \n",
      "9  https://image.aladin.co.kr/product/19874/76/co...   \n",
      "\n",
      "                                  bookDtlUrl page_count  \n",
      "0  https://data4library.kr/bookV?seq=5430429       330쪽  \n",
      "1  https://data4library.kr/bookV?seq=5707051       300쪽  \n",
      "2  https://data4library.kr/bookV?seq=5446546       228쪽  \n",
      "3  https://data4library.kr/bookV?seq=5674475       340쪽  \n",
      "4  https://data4library.kr/bookV?seq=3423096       264쪽  \n",
      "5  https://data4library.kr/bookV?seq=5549987       272쪽  \n",
      "6  https://data4library.kr/bookV?seq=3391014       396쪽  \n",
      "7  https://data4library.kr/bookV?seq=1902173       None  \n",
      "8  https://data4library.kr/bookV?seq=5738747       376쪽  \n",
      "9  https://data4library.kr/bookV?seq=5448422       244쪽  \n"
     ]
    }
   ],
   "source": [
    "top10_with_page_count = pd.merge(top10_books,page_count, left_index=True, right_index=True)\n",
    "print(top10_with_page_count.loc[::,'no':'page_count'])"
   ]
  }
 ],
 "metadata": {
  "kernelspec": {
   "display_name": "Python 3",
   "language": "python",
   "name": "python3"
  },
  "language_info": {
   "codemirror_mode": {
    "name": "ipython",
    "version": 3
   },
   "file_extension": ".py",
   "mimetype": "text/x-python",
   "name": "python",
   "nbconvert_exporter": "python",
   "pygments_lexer": "ipython3",
   "version": "3.12.5"
  }
 },
 "nbformat": 4,
 "nbformat_minor": 2
}
