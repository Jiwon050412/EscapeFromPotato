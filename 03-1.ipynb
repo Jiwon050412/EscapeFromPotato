{
 "cells": [
  {
   "cell_type": "markdown",
   "metadata": {},
   "source": [
    "중복되는 행과 필요없는 열을 삭제하는 일괄처리 함수 만들기"
   ]
  },
  {
   "cell_type": "code",
   "execution_count": null,
   "metadata": {},
   "outputs": [],
   "source": [
    "import pandas as pd"
   ]
  },
  {
   "cell_type": "code",
   "execution_count": null,
   "metadata": {},
   "outputs": [],
   "source": [
    "def data_cleaning(filename):\n",
    "    #파일을 데이터 프레임으로 읽어옴\n",
    "    ns_df = pd.read_csv(filename, encoding='EUC-KR', low_memory=False)\n",
    "\n",
    "    #NaN인 열 삭제\n",
    "    ns_book = ns_df.dropna(axis=1, how='all')\n",
    "\n",
    "    #대출건수를 합치기 위해 필요한 행만 추출하여 count_df 데이터프레임 만들기\n",
    "    count_df = ns_book[['도서명','저자','ISBN','권','대출건수']]\n",
    "\n",
    "    #대출건수를 groupby하기\n",
    "    loan_count = count_df.groupby(by = ['도서명','저자','ISBN','권'], dropna=False ).sum()\n",
    "\n",
    "    #원본 데이터프레임에서 중복된 행을 제외하고 고유한 행만 추출하여 복사\n",
    "    ns_book3 = ns_book.drop_duplicates(subset=['도서명','저자','ISBN','권']).copy()\n",
    "\n",
    "    #도서명, 저자, ISBN, 권을 인덱스로 설정\n",
    "    ns_book3.set_index(['도서명','저자','ISBN','권'], inplace=True)\n",
    "\n",
    "    #loan_count에 저장된 누적 대출건수를 업데이트\n",
    "    ns_book3.update(loan_count)\n",
    "\n",
    "    #인덱스 재설정\n",
    "    ns_book4 = ns_book3.reset_index()\n",
    "\n",
    "    #원본 데이터프레임의 열 순서로 변경\n",
    "    ns_book4 = ns_book4[ns_book.columns]\n",
    "    return ns_book4\n",
    "\n"
   ]
  },
  {
   "cell_type": "code",
   "execution_count": null,
   "metadata": {},
   "outputs": [],
   "source": []
  }
 ],
 "metadata": {
  "kernelspec": {
   "display_name": "Python 3",
   "language": "python",
   "name": "python3"
  },
  "language_info": {
   "codemirror_mode": {
    "name": "ipython",
    "version": 3
   },
   "file_extension": ".py",
   "mimetype": "text/x-python",
   "name": "python",
   "nbconvert_exporter": "python",
   "pygments_lexer": "ipython3",
   "version": "3.12.5"
  }
 },
 "nbformat": 4,
 "nbformat_minor": 2
}
