{
 "cells": [
  {
   "cell_type": "markdown",
   "metadata": {},
   "source": [
    "중복되는 행과 필요없는 열을 삭제하는 일괄처리 함수 만들기"
   ]
  },
  {
   "cell_type": "code",
   "execution_count": 2,
   "metadata": {},
   "outputs": [],
   "source": [
    "import pandas as pd"
   ]
  },
  {
   "cell_type": "code",
   "execution_count": 7,
   "metadata": {},
   "outputs": [
    {
     "name": "stderr",
     "output_type": "stream",
     "text": [
      "/var/folders/hl/v8wjcd3d7sb1xbjy562xy3400000gn/T/ipykernel_26520/1220105315.py:21: PerformanceWarning: indexing past lexsort depth may impact performance.\n",
      "  ns_book3.update(loan_count)\n"
     ]
    },
    {
     "name": "stdout",
     "output_type": "stream",
     "text": [
      "<class 'pandas.core.frame.DataFrame'>\n",
      "RangeIndex: 384591 entries, 0 to 384590\n",
      "Data columns (total 13 columns):\n",
      " #   Column   Non-Null Count   Dtype \n",
      "---  ------   --------------   ----- \n",
      " 0   번호       384591 non-null  int64 \n",
      " 1   도서명      384188 non-null  object\n",
      " 2   저자       384393 non-null  object\n",
      " 3   출판사      379950 non-null  object\n",
      " 4   발행년도     384577 non-null  object\n",
      " 5   ISBN     384591 non-null  object\n",
      " 6   세트 ISBN  56576 non-null   object\n",
      " 7   부가기호     310386 non-null  object\n",
      " 8   권        63378 non-null   object\n",
      " 9   주제분류번호   364727 non-null  object\n",
      " 10  도서권수     384591 non-null  int64 \n",
      " 11  대출건수     384591 non-null  int64 \n",
      " 12  등록일자     384591 non-null  object\n",
      "dtypes: int64(3), object(10)\n",
      "memory usage: 38.1+ MB\n"
     ]
    }
   ],
   "source": [
    "def data_cleaning(filename):\n",
    "    #파일을 데이터 프레임으로 읽어옴\n",
    "    ns_df = pd.read_csv(filename, encoding='EUC-KR', low_memory=False)\n",
    "\n",
    "    #NaN인 열 삭제\n",
    "    ns_book = ns_df.dropna(axis=1, how='all')\n",
    "\n",
    "    #대출건수를 합치기 위해 필요한 행만 추출하여 count_df 데이터프레임 만들기\n",
    "    count_df = ns_book[['도서명','저자','ISBN','권','대출건수']]\n",
    "\n",
    "    #대출건수를 groupby하기\n",
    "    loan_count = count_df.groupby(by = ['도서명','저자','ISBN','권'], dropna=False ).sum()\n",
    "\n",
    "    #원본 데이터프레임에서 중복된 행을 제외하고 고유한 행만 추출하여 복사\n",
    "    ns_book3 = ns_book.drop_duplicates(subset=['도서명','저자','ISBN','권']).copy()\n",
    "\n",
    "    #도서명, 저자, ISBN, 권을 인덱스로 설정\n",
    "    ns_book3.set_index(['도서명','저자','ISBN','권'], inplace=True)\n",
    "\n",
    "    #loan_count에 저장된 누적 대출건수를 업데이트\n",
    "    ns_book3.update(loan_count)\n",
    "\n",
    "    #인덱스 재설정\n",
    "    ns_book4 = ns_book3.reset_index()\n",
    "\n",
    "    #원본 데이터프레임의 열 순서로 변경\n",
    "    ns_book4 = ns_book4[ns_book.columns]\n",
    "    return ns_book4\n",
    "\n",
    "ns_book4 = data_cleaning('도서관 자료.csv')\n",
    "ns_book4.info()\n"
   ]
  },
  {
   "cell_type": "code",
   "execution_count": 8,
   "metadata": {},
   "outputs": [],
   "source": [
    "ns_book4.to_csv('ns_book4.csv')"
   ]
  }
 ],
 "metadata": {
  "kernelspec": {
   "display_name": "Python 3",
   "language": "python",
   "name": "python3"
  },
  "language_info": {
   "codemirror_mode": {
    "name": "ipython",
    "version": 3
   },
   "file_extension": ".py",
   "mimetype": "text/x-python",
   "name": "python",
   "nbconvert_exporter": "python",
   "pygments_lexer": "ipython3",
   "version": "3.12.5"
  }
 },
 "nbformat": 4,
 "nbformat_minor": 2
}
